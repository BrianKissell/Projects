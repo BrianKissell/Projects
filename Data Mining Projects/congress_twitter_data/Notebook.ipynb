{
 "cells": [
  {
   "cell_type": "markdown",
   "metadata": {},
   "source": [
    "## 1_create_twitter_df_handle.py"
   ]
  },
  {
   "cell_type": "code",
   "execution_count": 1,
   "metadata": {},
   "outputs": [],
   "source": [
    "# Import packages\n",
    "from urllib.request import urlopen\n",
    "from io import open\n",
    "import re\n",
    "import pandas as pd\n",
    "\n",
    "# Read the text file that contains the twitter handles for each congress member.\n",
    "file = open('116th-Congress-Twitter-Handles.txt', encoding=\"utf-8\")\n",
    "text = file.read()\n",
    "\n",
    "# Remove commas from the text.\n",
    "text = re.sub(r\"\\,\", \"\", text)\n",
    "\n",
    "# Use regular expression to extract the name, state, and twitter handle for each congress person.\n",
    "congress_data = re.findall(r'([A-Z]{2}\\s?\\-?\\s?(?:[0-9]+)?)\\s?(?:At Large )?(?:Delegate\\s)?((?:[A-z\\.\\-\\\"\\'\\,úíéáÃº­©¡]+\\s){1,5}|(?:N\\/A))((?:@[A-z\\.\\-0-9]+)|N\\/A)', text)\n",
    "\n",
    "# Use this information to create a dataframe.\n",
    "df_congress = pd.DataFrame(congress_data, columns = [\"state\",\"name\",\"twitter_handle\"])  \n",
    "\n",
    "# Save the dataframe as a csv file.\n",
    "df_congress.to_csv(\"congress_twitter_handles.csv\")"
   ]
  },
  {
   "cell_type": "markdown",
   "metadata": {},
   "source": [
    "## 2_join_handles_party.py"
   ]
  },
  {
   "cell_type": "code",
   "execution_count": 2,
   "metadata": {},
   "outputs": [],
   "source": [
    "# Import packages\n",
    "import pandas as pd\n",
    "import re\n",
    "\n",
    "# Import csv file directly from fivethirtyeight.\n",
    "df_ = pd.read_csv(\"https://projects.fivethirtyeight.com/congress-tracker-data/csv/averages.csv\")\n",
    "\n",
    "# Only select members of the 116th congress.\n",
    "trump_approval_116 = df_[df_['congress'] == 116]\n",
    "\n",
    "# Import the twitter handles for 116th congress.\n",
    "congress_twitter = pd.read_csv(\"congress_twitter_handles.csv\")\n",
    "\n",
    "# Clean up the names and create a variable that contains the last name.\n",
    "congress_twitter['name'] = congress_twitter['name'].str.strip()\n",
    "congress_twitter['name'] = [re.sub(\"\\s?j|Jr\\.?\", \"\", name) for name in congress_twitter['name']]\n",
    "congress_twitter['name'] = [re.sub(\"\\s[A-Z]\\.\\s\", \" \", name) for name in congress_twitter['name']]\n",
    "congress_twitter['last_name'] = [name.split()[-1] for name in congress_twitter['name']]\n",
    "\n",
    "# Add the twitter handles to the trump approval data set.\n",
    "joined = pd.merge(trump_approval_116, congress_twitter, on = \"last_name\")\n",
    "\n",
    "# Create the csv file\n",
    "joined.to_csv(\"congress_twitter_trump_approval.csv\")"
   ]
  },
  {
   "cell_type": "markdown",
   "metadata": {},
   "source": [
    "## 3_collect_data_from_twitter_api"
   ]
  },
  {
   "cell_type": "code",
   "execution_count": 3,
   "metadata": {},
   "outputs": [
    {
     "name": "stdout",
     "output_type": "stream",
     "text": [
      "['@Robert_Aderholt', '@justinamash', '@MarkAmodeiNV2', '@RepAdams', '@RepPeteAguilar', '@RepRickAllen', '@RepAbraham', '@RepArrington', '@RepColinAllred', '@RepArmstrongND', '@RepCindyAxne', '@SanfordBishop', '@RepRobBishop', '@SanfordBishop', '@RepRobBishop', '@SanfordBishop', '@RepRobBishop', '@repblumenauer', '@RepKevinBrady', '@michaelcburgess', '@GKButterfield', '@RepGusBilirakis', '@VernBuchanan', '@RepKarenBass', '@RepMoBrooks', '@SusanWBrooks', '@RepMoBrooks', '@SusanWBrooks', '@RepLarryBucshon', '@RepBonamici', '@RepBeatty', '@RepAndyBarr', '@RepBrownley', '@RepCheri', '@RepBera', '@RepByrne', '@RepBrianBabin', '@RepDonBeyer', '@RepBost', '@CongBoyle', '@RepKenBuck', '@RepDonBacon', '@RepJimBanks', '@RepBarragan', '@RepJackBergman', '@RepAndyBiggsAZ', '@SenSherrodBrown', '@RepAnthonyBrown', '@SenSherrodBrown', '@RepAnthonyBrown', '@RepTedBudd', '@RepBalderson', '@RepJimBaird', '@RepBrindisi', '@RepTimBurchett', '@KenCalvert', '@RepSteveChabot', '@WhipClyburn', '@repjimcooper', '@RepCummings', '@LacyClayMO1', '@RepBuddyCarter', '@JudgeCarter', '@RepBuddyCarter', '@JudgeCarter', '@TomColeOK04', '@RepEdCase', '@RepJimCosta', '@repcleaver', '@ConawayTX11', '@RepCuellar', '@USRepKCastor', '@RepYvetteClarke', '@RepCohen', '@RepJoeCourtney', '@RepAndreCarson', '@GerryConnolly', '@RepJudyChu', '@davidcicilline', '@RepRickCrawford', '@RepCartwright', '@JoaquinCastrotx', '@SenatorCollins', '@RepDougCollins', '@RepChrisCollins', '@SenatorCollins', '@RepDougCollins', '@RepChrisCollins', '@SenatorCollins', '@RepDougCollins', '@RepChrisCollins', '@RepPaulCook', '@RepCardenas', '@RepKClark', nan, '@RepLizCheney', '@RepLouCorrea', '@RepCharlieCrist', '@RepJohnCurtis', '@RepCloudTX', '@RepCasten', '@RepBenCline', '@RepAngieCraig', '@RepDanCrenshaw', '@RepJasonCrow', '@RepCunningham', '@RepGilCisneros', '@RepTjCox', '@RepSusanDavis', '@RepDannyDavis', '@RodneyDavis', '@RepSusanDavis', '@RepDannyDavis', '@RodneyDavis', '@RepSusanDavis', '@RepDannyDavis', '@RodneyDavis', '@RepPeterDeFazio', '@RepDianaDeGette', '@rosadelauro', '@RepLloydDoggett', '@USRepMikeDoyle', '@MarioDB', '@RepTedDeutch', '@RepSeanDuffy', '@RepJeffDuncan', '@DesJarlaisTN04', '@RepDelBene', '@RepDeSaulnier', '@RepDebDingell', '@WarrenDavidson', '@RepValDemings', '@DrNealDunnFL2', '@RepDavids', '@RepDean', '@RepEliotEngel', '@RepAnnaEshoo', '@RepTomEmmer', '@RepDwightEvans', '@RepEspaillat', '@RepRonEstes', '@RepEscobar', '@JeffFortenberry', '@virginiafoxx', '@RepBillFoster', '@RepMarciaFudge', '@RepChuck', '@RepBillFlores', '@RepLoisFrankel', '@RepDrewFerguson', '@RepBrianFitz', '@RepFinkenauer', '@RepFletcher', '@RepRussFulcher', '@RepSylviaGarcia', '@RepSylviaGarcia', '@RepKayGranger', '@RepTomGraves', '@RepGarretGraves', '@RepSamGraves', '@RepTomGraves', '@RepGarretGraves', '@RepSamGraves', '@RepTomGraves', '@RepGarretGraves', '@RepSamGraves', '@replouiegohmert', '@RepMarkGreen', '@RepAlGreen', '@RepMarkGreen', '@RepAlGreen', '@RepGuthrie', '@RepGaramendi', '@RepBobGibbs', '@RepGosar', '@RepMGriffith', '@TulsiPress', '@RepRubenGallego', '@RepGrothman', '@RepMattGaetz', '@RepGallagher', '@RepAGonzalez', '@RepGonzalez', '@RepAGonzalez', '@RepGonzalez', '@RepJoshG', nan, '@RepJimmyGomez', '@RepChuyGarcia', '@RepLanceGooden', '@RepMichaelGuest', '@RepGolden', '@RepHastingsFL', '@LeaderHoyer', '@RepClayHiggins', '@RepBrianHiggins', '@RepClayHiggins', '@RepBrianHiggins', '@jahimes', '@Rep_Hunter', '@SenKamalaHarris', '@RepAndyHarrisMD', '@SenKamalaHarris', '@RepAndyHarrisMD', '@RepHartzler', '@RepHuizenga', '@RepDennyHeck', '@RepHolding', '@RepHorsford', '@RepRichHudson', '@RepHuffman', '@CongressmanHice', '@RepFrenchHill', '@RepKatieHill', '@RepFrenchHill', '@RepKatieHill', '@HurdOnTheHill', '@RepTrey', '@RepDebHaaland', '@RepJahanaHayes', '@repkevinhern', '@RepKendraHorn', '@RepHoulahan', '@RepHagedorn', '@RepJoshHarder', '@SenRonJohnson', '@RepHankJohnson', '@RepMikeJohnson', '@RepBillJohnson', '@RepDustyJohnson', '@RepEBJ', '@SenRonJohnson', '@RepHankJohnson', '@RepMikeJohnson', '@RepBillJohnson', '@RepDustyJohnson', '@RepEBJ', '@SenRonJohnson', '@RepHankJohnson', '@RepMikeJohnson', '@RepBillJohnson', '@RepDustyJohnson', '@RepEBJ', '@SenRonJohnson', '@RepHankJohnson', '@RepMikeJohnson', '@RepBillJohnson', '@RepDustyJohnson', '@RepEBJ', '@SenRonJohnson', '@RepHankJohnson', '@RepMikeJohnson', '@RepBillJohnson', '@RepDustyJohnson', '@RepEBJ', '@SenRonJohnson', '@RepHankJohnson', '@RepMikeJohnson', '@RepBillJohnson', '@RepDustyJohnson', '@RepEBJ', '@Jim_Jordan', '@RepJeffries', '@RepDaveJoyce', '@RepJohnJoyce', '@RepDaveJoyce', '@RepJohnJoyce', '@RepJayapal', '@RepMarcyKaptur', '@RepRonKind', '@SenAngusKing', nan, '@RepPeteKing', '@SenAngusKing', nan, '@RepPeteKing', '@SenAngusKing', nan, '@RepPeteKing', '@RepKirkpatrick', '@USRepKeating', '@RepRobinKelly', '@RepTrentKelly', '@MikeKellyPA', '@RepRobinKelly', '@RepTrentKelly', '@MikeKellyPA', '@RepRobinKelly', '@RepTrentKelly', '@MikeKellyPA', '@RepRobinKelly', '@RepTrentKelly', '@MikeKellyPA', '@RepKinzinger', '@SenJohnKennedy', '@RepJoeKennedy', '@SenJohnKennedy', '@RepJoeKennedy', '@RepDanKildee', '@RepDerekKilmer', '@RepAnnieKuster', '@RepJohnKatko', '@RepRoKhanna', '@CongressmanRaja', '@RepDavidKustoff', '@RepAndyKimNJ', '@repjohnlewis', '@RepZoeLofgren', '@NitaLowey', '@RepFrankLucas', '@SenMikeLee', '@RepBarbaraLee', '@RepSusieLee', '@JacksonLeeTX18', '@SenMikeLee', '@RepBarbaraLee', '@RepSusieLee', '@JacksonLeeTX18', '@SenMikeLee', '@RepBarbaraLee', '@RepSusieLee', '@JacksonLeeTX18', '@RepJohnLarson', '@JimLangevin', '@RepRickLarsen', '@RepStephenLynch', '@RepLipinski', '@RepDLamborn', '@daveloebsack', '@boblatta', '@RepBlaine', '@USRepLong', '@RepLaMalfa', '@RepLowenthal', '@RepLawrence', '@RepTedLieu', '@RepLoudermilk', '@RepLaHood', '@RepAlLawsonJr', '@RepConorLamb', '@RepDLesko', '@RepElaineLuria', '@RepMikeLevin', '@RepAndyLevin', '@RepMikeLevin', '@RepAndyLevin', '@RepMaloney', '@RepSeanMaloney', '@RepMaloney', '@RepSeanMaloney', '@RepMcGovern', '@RepGregoryMeeks', '@BettyMcCollum04', '@PatrickMcHenry', '@RepMcCaul', '@RepKenMarchant', '@RepGwenMoore', '@DorisMatsui', '@GOPLeader', '@RepMcNerney', '@RepMcClintock', '@RepMcKinley', '@RepThomasMassie', '@RepMarkMeadows', '@RepGraceMeng', '@RepMullin', '@RepMoolenaar', '@RepAlexMooney', '@teammoulton', nan, '@RepBrianMast', '@RepMcEachin', '@RepPaulMitchell', '@SenMurphyOffice', '@RepStephMurphy', '@SenMurphyOffice', '@RepStephMurphy', '@SenMurphyOffice', '@RepStephMurphy', '@RepMalinowski', '@RepMeuser', '@RepCarolMiller', '@RepJoeMorelle', '@RepDMP', '@RepLucyMcBath', '@RepBenMcAdams', '@RepJerryNadler', '@RepRichardNeal', '@gracenapolitano', '@RepDevinNunes', '@DonaldNorcross', '@RepNewhouse', '@RepRalphNorman', '@RepJoeNeguse', '@RepPeteOlson', '@RepAOC', '@Ilhan', '@FrankPallone', '@BillPascrell', '@SpeakerPelosi', nan, '@RepDavidEPrice', '@RepPerlmutter', '@chelliepingree', '@congbillposey', '@CongPalazzo', '@RepDonaldPayne', '@RepScottPerry', '@repmarkpocan', '@SenGaryPeters', '@RepScottPeters', '@SenGaryPeters', '@RepScottPeters', '@USRepGaryPalmer', '@RepJimmyPanetta', '@RepChrisPappas', '@RepGregPence', '@RepDeanPhillips', '@RepPressley', '@RepKatiePorter', '@RepMikeQuigley', '@RepMikeRogersAL', '@RepHalRogers', '@RepMikeRogersAL', '@RepHalRogers', '@RepRoybalAllard', '@RepBobbyRush', '@Call_Me_Dutch', '@RepTimRyan', '@DrPhilRoe', '@SenJackReed', '@RepTomReed', '@SenJackReed', '@RepTomReed', '@RepRichmond', '@RepMarthaRoby', '@RepKathleenRice', '@RepTomRice', '@RepKathleenRice', '@RepTomRice', '@CongressmanRuiz', '@RepRatcliffe', '@RepDavidRouzer', '@RepRaskin', '@RepRooney', '@RepRutherfordFL', '@GReschenthaler', '@RepRiggleman', '@RepMaxRose', '@RepJohnRose', '@RepMaxRose', '@RepJohnRose', '@RepChipRoy', '@RepHarley', '@SenRickScott', '@SenatorTimScott', '@AustinScottGA08', '@repdavidscott', '@BobbyScott', '@SenRickScott', '@SenatorTimScott', '@AustinScottGA08', '@repdavidscott', '@BobbyScott', '@SenRickScott', '@SenatorTimScott', '@AustinScottGA08', '@repdavidscott', '@BobbyScott', '@SenRickScott', '@SenatorTimScott', '@AustinScottGA08', '@repdavidscott', '@BobbyScott', '@SenRickScott', '@SenatorTimScott', '@AustinScottGA08', '@repdavidscott', '@BobbyScott', '@JimPressOffice', '@RepJoseSerrano', '@BradSherman', '@RepShimkus', '@SenTinaSmith', '@RepJasonSmith', '@RepAdrianSmith', '@RepChrisSmith', '@RepAdamSmith', '@SenTinaSmith', '@RepJasonSmith', '@RepAdrianSmith', '@RepChrisSmith', '@RepAdamSmith', '@SenTinaSmith', '@RepJasonSmith', '@RepAdrianSmith', '@RepChrisSmith', '@RepAdamSmith', '@SenTinaSmith', '@RepJasonSmith', '@RepAdrianSmith', '@RepChrisSmith', '@RepAdamSmith', '@SenTinaSmith', '@RepJasonSmith', '@RepAdrianSmith', '@RepChrisSmith', '@RepAdamSmith', '@janschakowsky', '@CongMikeSimpson', '@RepAdamSchiff', '@RepLindaSanchez', '@RepSires', '@RepSarbanes', '@RepSpeier', '@SteveScalise', '@RepSchrader', '@RepDavid', '@RepTerriSewell', '@RepSteveStivers', '@RepSchneider', '@RepChrisStewart', '@RepSwalwell', '@RepStefanik', '@RepSmucker', '@RepDarrenSoto', '@RepTomSuozzi', '@RepMGS', '@RepShalala', '@RepSherrill', '@RepSlotkin', '@RepSpanberger', '@RepGregStanton', '@RepPeteStauber', '@RepBryanSteil', '@RepGregSteube', '@RepHaleyStevens', '@RepKimSchrier', '@RepThompson', '@BennieGThompson', '@CongressmanGT', '@RepThompson', '@BennieGThompson', '@CongressmanGT', '@RepThompson', '@BennieGThompson', '@CongressmanGT', '@MacTXPress', '@RepMikeTurner', '@repdinatitus', '@RepPaulTonko', '@RepTipton', '@RepMarkTakano', '@NormaJTorres', '@RepVanTaylor', '@reptimmons', '@RepRashida', '@RepLoriTrahan', '@RepDavidTrone', '@RepFredUpton', '@RepUnderwood', '@NydiaVelazquez', '@RepVisclosky', '@RepJuanVargas', '@RepVeasey', '@RepFilemonVela', '@RepMaxineWaters', '@repgregwalden', '@RepWilson', '@RepJoeWilson', '@RepWilson', '@RepJoeWilson', '@RepWalberg', '@PeterWelch', '@RobWittman', '@RepWebster', '@rep_stevewomack', '@RepRobWoodall', '@RepAnnWagner', '@RepWalorski', '@RepBradWenstrup', '@RepRWilliams', '@RepMarkWalker', '@RepWesterman', '@RepMichaelWaltz', nan, '@RepWexton', '@RepRonWright', '@SenToddYoung', '@repdonyoung', '@SenToddYoung', '@repdonyoung', '@RepJohnYarmuth', '@RepTedYoho', '@RepLeeZeldin', '@SenAlexander', '@RoyBlunt', '@SenatorBurr', '@SenatorBaldwin', '@JohnBoozman', '@MarshaBlackburn', '@SenJohnBarrasso', '@SenatorBennet', '@SenBlumenthal', '@SenBooker', '@SenatorBraun', '@SenatorCantwell', '@SenatorCardin', '@SenatorCarper', '@MikeCrapo', '@SenCapito', '@JohnCornyn', '@SenBobCasey', '@SenBillCassidy', '@ChrisCoons', '@SenTomCotton', '@SenKevinCramer', '@SenTedCruz', '@SenatorDurbin', '@SteveDaines', '@SenDuckworth', '@SenatorEnzi', '@SenJoniErnst', '@SenFeinstein', '@SenatorFischer', '@LindseyGrahamSC', '@ChuckGrassley', '@gillibrandny', '@SenCoryGardner', '@maziehirono', '@MartinHeinrich', '@SenJohnHoeven', '@SenatorHassan', '@SenHydeSmith', '@SenHawleyPress', '@JimInhofe', '@SenatorIsakson', '@SenDougJones', '@RepWalterJones', '@SenAmyKlobuchar', nan, '@SenatorLeahy', '@SenatorLankford', '@SenMarkey', '@SenateMajLdr', '@SenatorMenendez', '@JerryMoran', '@PattyMurray', '@lisamurkowski', '@SenJeffMerkley', '@SenMcSallyAZ', '@senrobportman', '@RandPaul', '@sendavidperdue', '@SenPatRoberts', '@SenatorRisch', '@SenRubioPress', '@SenatorRounds', '@SenJackyRosen', '@SenatorRomney', '@SenSanders', '@SenSchumer', '@SenShelby', '@SenStabenow', '@SenatorShaheen', '@SenatorSinema', '@SenBrianSchatz', '@SenSasse', '@SenDanSullivan', '@SenJohnThune', '@SenToomey', '@SenatorTester', '@SenThomTillis', '@SenatorTomUdall', '@SenatorWicker', '@RonWyden', '@SenWhitehouse', '@MarkWarner', '@SenWarren']\n"
     ]
    }
   ],
   "source": [
    "# Import packages\n",
    "import json\n",
    "import csv\n",
    "from datetime import date\n",
    "from datetime import datetime\n",
    "import time\n",
    "from tweepy.streaming import StreamListener\n",
    "import tweepy\n",
    "from urllib.request import urlopen\n",
    "from io import open\n",
    "import re\n",
    "import pandas as pd\n",
    "\n",
    "# Create path for where the tweets will be stored.\n",
    "path = \"tweets_02_02_2021\"\n",
    "\n",
    "# Read congress data, and create list of twitter handles\n",
    "df_handles = pd.read_csv(\"congress_twitter_trump_approval.csv\")\n",
    "handles = df_handles['twitter_handle'].to_list()\n",
    "\n"
   ]
  },
  {
   "cell_type": "code",
   "execution_count": 8,
   "metadata": {},
   "outputs": [
    {
     "name": "stdout",
     "output_type": "stream",
     "text": [
      "What is the api key? fv5Ad7Is97reXHYpCzCMohrcN\n",
      "What is the api secret key? gVFJFNKzlXyGSrH8EATXk5aGGPhPxMKZxtgAAApxvOeG29W62f\n",
      "What is the access token? 3137748470-j35r09whPzI6k8ud9sj2Hk6ZplOAoWGwksWiMed\n",
      "What is the access token secret? sC2UAmB1ArlgMBK6ovPOmYC6Tv9gcBr91q8hL3Ueuhh38\n"
     ]
    }
   ],
   "source": [
    "api_key = input(\"What is the api key? \")\n",
    "api_secret_key = input(\"What is the api secret key? \")\n",
    "access_token = input(\"What is the access token? \")\n",
    "access_token_secret = input(\"What is the access token secret? \")\n",
    " \n",
    "# Connect to Twitter API using the secrets\n",
    "auth = tweepy.OAuthHandler(api_key, api_secret_key)\n",
    "auth.set_access_token(access_token, access_token_secret)\n",
    "api = tweepy.API(auth)\n"
   ]
  },
  {
   "cell_type": "code",
   "execution_count": 9,
   "metadata": {},
   "outputs": [],
   "source": [
    "# Helper function to save data into a JSON file\n",
    "def save_json(file_name, file_content):\n",
    "  with open(path + file_name, 'w', encoding='utf-8') as f:\n",
    "    json.dump(file_content, f, ensure_ascii=False, indent=4)\n",
    "\n",
    "# Helper function to get all tweets of a specified user\n",
    "# NOTE:This method only allows access to the most recent 3200 tweets\n",
    "# Source: https://gist.github.com/yanofsky/5436496\n",
    "def get_all_tweets(screen_name):\n",
    "  # initialize a list to hold all the Tweets\n",
    "  alltweets = []\n",
    "  # make initial request for most recent tweets \n",
    "  # (200 is the maximum allowed count)\n",
    "  new_tweets = api.user_timeline(screen_name = screen_name,count=200, tweet_mode = \"extended\")\n",
    "  # save most recent tweets\n",
    "  alltweets.extend(new_tweets)\n",
    "  # save the id of the oldest tweet less one to avoid duplication\n",
    "  oldest = alltweets[-1].id - 1\n",
    "  # keep grabbing tweets until there are no tweets left\n",
    "  while len(new_tweets) > 0:\n",
    "    print(\"getting tweets before %s\" % (oldest))\n",
    "    # all subsequent requests use the max_id param to prevent\n",
    "    # duplicates\n",
    "    new_tweets = api.user_timeline(screen_name = screen_name,count=200,max_id=oldest, tweet_mode = \"extended\")\n",
    "    # save most recent tweets\n",
    "    alltweets.extend(new_tweets)\n",
    "    # update the id of the oldest tweet less one\n",
    "    oldest = alltweets[-1].id - 1\n",
    "    print(\"...%s tweets downloaded so far\" % (len(alltweets)))\n",
    "    ### END OF WHILE LOOP ###\n",
    "  # transform the tweepy tweets into a 2D array that will \n",
    "  # populate the csv\n",
    "  print(alltweets)  \n",
    "#outtweets = [[tweet.id_str, tweet.created_at, tweet.full_text, tweet.favorite_count,tweet.in_reply_to_screen_name, tweet.retweeted, tweet.screen_name] for tweet in alltweets]\n",
    "  # write the csv\n",
    "  #with open(path + '%s_tweets.csv' % screen_name, 'w') as f:\n",
    "  #  writer = csv.writer(f)\n",
    "  #  writer.writerow([\"id\",\"created_at\",\"text\",\"likes\",\"in reply to\",\"retweeted\", \"screen_name\"])\n",
    "  #  writer.writerows(outtweets)\n",
    "  #pass"
   ]
  },
  {
   "cell_type": "code",
   "execution_count": 10,
   "metadata": {},
   "outputs": [
    {
     "name": "stdout",
     "output_type": "stream",
     "text": [
      "getting tweets before 1266813872859680768\n",
      "...395 tweets downloaded so far\n",
      "getting tweets before 1237349641903050751\n"
     ]
    },
    {
     "ename": "TweepError",
     "evalue": "Failed to parse JSON payload: Unterminated string starting at: line 1 column 635485 (char 635484)",
     "output_type": "error",
     "traceback": [
      "\u001b[1;31m---------------------------------------------------------------------------\u001b[0m",
      "\u001b[1;31mJSONDecodeError\u001b[0m                           Traceback (most recent call last)",
      "\u001b[1;32m~\\anaconda3\\lib\\site-packages\\tweepy\\parsers.py\u001b[0m in \u001b[0;36mparse\u001b[1;34m(self, method, payload, return_cursors)\u001b[0m\n\u001b[0;32m     47\u001b[0m         \u001b[1;32mtry\u001b[0m\u001b[1;33m:\u001b[0m\u001b[1;33m\u001b[0m\u001b[1;33m\u001b[0m\u001b[0m\n\u001b[1;32m---> 48\u001b[1;33m             \u001b[0mjson\u001b[0m \u001b[1;33m=\u001b[0m \u001b[0mjson_lib\u001b[0m\u001b[1;33m.\u001b[0m\u001b[0mloads\u001b[0m\u001b[1;33m(\u001b[0m\u001b[0mpayload\u001b[0m\u001b[1;33m)\u001b[0m\u001b[1;33m\u001b[0m\u001b[1;33m\u001b[0m\u001b[0m\n\u001b[0m\u001b[0;32m     49\u001b[0m         \u001b[1;32mexcept\u001b[0m \u001b[0mException\u001b[0m \u001b[1;32mas\u001b[0m \u001b[0me\u001b[0m\u001b[1;33m:\u001b[0m\u001b[1;33m\u001b[0m\u001b[1;33m\u001b[0m\u001b[0m\n",
      "\u001b[1;32m~\\anaconda3\\lib\\json\\__init__.py\u001b[0m in \u001b[0;36mloads\u001b[1;34m(s, cls, object_hook, parse_float, parse_int, parse_constant, object_pairs_hook, **kw)\u001b[0m\n\u001b[0;32m    356\u001b[0m             parse_constant is None and object_pairs_hook is None and not kw):\n\u001b[1;32m--> 357\u001b[1;33m         \u001b[1;32mreturn\u001b[0m \u001b[0m_default_decoder\u001b[0m\u001b[1;33m.\u001b[0m\u001b[0mdecode\u001b[0m\u001b[1;33m(\u001b[0m\u001b[0ms\u001b[0m\u001b[1;33m)\u001b[0m\u001b[1;33m\u001b[0m\u001b[1;33m\u001b[0m\u001b[0m\n\u001b[0m\u001b[0;32m    358\u001b[0m     \u001b[1;32mif\u001b[0m \u001b[0mcls\u001b[0m \u001b[1;32mis\u001b[0m \u001b[1;32mNone\u001b[0m\u001b[1;33m:\u001b[0m\u001b[1;33m\u001b[0m\u001b[1;33m\u001b[0m\u001b[0m\n",
      "\u001b[1;32m~\\anaconda3\\lib\\json\\decoder.py\u001b[0m in \u001b[0;36mdecode\u001b[1;34m(self, s, _w)\u001b[0m\n\u001b[0;32m    336\u001b[0m         \"\"\"\n\u001b[1;32m--> 337\u001b[1;33m         \u001b[0mobj\u001b[0m\u001b[1;33m,\u001b[0m \u001b[0mend\u001b[0m \u001b[1;33m=\u001b[0m \u001b[0mself\u001b[0m\u001b[1;33m.\u001b[0m\u001b[0mraw_decode\u001b[0m\u001b[1;33m(\u001b[0m\u001b[0ms\u001b[0m\u001b[1;33m,\u001b[0m \u001b[0midx\u001b[0m\u001b[1;33m=\u001b[0m\u001b[0m_w\u001b[0m\u001b[1;33m(\u001b[0m\u001b[0ms\u001b[0m\u001b[1;33m,\u001b[0m \u001b[1;36m0\u001b[0m\u001b[1;33m)\u001b[0m\u001b[1;33m.\u001b[0m\u001b[0mend\u001b[0m\u001b[1;33m(\u001b[0m\u001b[1;33m)\u001b[0m\u001b[1;33m)\u001b[0m\u001b[1;33m\u001b[0m\u001b[1;33m\u001b[0m\u001b[0m\n\u001b[0m\u001b[0;32m    338\u001b[0m         \u001b[0mend\u001b[0m \u001b[1;33m=\u001b[0m \u001b[0m_w\u001b[0m\u001b[1;33m(\u001b[0m\u001b[0ms\u001b[0m\u001b[1;33m,\u001b[0m \u001b[0mend\u001b[0m\u001b[1;33m)\u001b[0m\u001b[1;33m.\u001b[0m\u001b[0mend\u001b[0m\u001b[1;33m(\u001b[0m\u001b[1;33m)\u001b[0m\u001b[1;33m\u001b[0m\u001b[1;33m\u001b[0m\u001b[0m\n",
      "\u001b[1;32m~\\anaconda3\\lib\\json\\decoder.py\u001b[0m in \u001b[0;36mraw_decode\u001b[1;34m(self, s, idx)\u001b[0m\n\u001b[0;32m    352\u001b[0m         \u001b[1;32mtry\u001b[0m\u001b[1;33m:\u001b[0m\u001b[1;33m\u001b[0m\u001b[1;33m\u001b[0m\u001b[0m\n\u001b[1;32m--> 353\u001b[1;33m             \u001b[0mobj\u001b[0m\u001b[1;33m,\u001b[0m \u001b[0mend\u001b[0m \u001b[1;33m=\u001b[0m \u001b[0mself\u001b[0m\u001b[1;33m.\u001b[0m\u001b[0mscan_once\u001b[0m\u001b[1;33m(\u001b[0m\u001b[0ms\u001b[0m\u001b[1;33m,\u001b[0m \u001b[0midx\u001b[0m\u001b[1;33m)\u001b[0m\u001b[1;33m\u001b[0m\u001b[1;33m\u001b[0m\u001b[0m\n\u001b[0m\u001b[0;32m    354\u001b[0m         \u001b[1;32mexcept\u001b[0m \u001b[0mStopIteration\u001b[0m \u001b[1;32mas\u001b[0m \u001b[0merr\u001b[0m\u001b[1;33m:\u001b[0m\u001b[1;33m\u001b[0m\u001b[1;33m\u001b[0m\u001b[0m\n",
      "\u001b[1;31mJSONDecodeError\u001b[0m: Unterminated string starting at: line 1 column 635485 (char 635484)",
      "\nDuring handling of the above exception, another exception occurred:\n",
      "\u001b[1;31mTweepError\u001b[0m                                Traceback (most recent call last)",
      "\u001b[1;32m<ipython-input-10-ee47c3d65e1c>\u001b[0m in \u001b[0;36m<module>\u001b[1;34m\u001b[0m\n\u001b[0;32m      1\u001b[0m \u001b[1;32mfor\u001b[0m \u001b[0mpolitician\u001b[0m \u001b[1;32min\u001b[0m \u001b[0mhandles\u001b[0m\u001b[1;33m[\u001b[0m\u001b[1;36m0\u001b[0m\u001b[1;33m:\u001b[0m\u001b[1;36m5\u001b[0m\u001b[1;33m]\u001b[0m\u001b[1;33m:\u001b[0m\u001b[1;33m\u001b[0m\u001b[1;33m\u001b[0m\u001b[0m\n\u001b[1;32m----> 2\u001b[1;33m   \u001b[0mget_all_tweets\u001b[0m\u001b[1;33m(\u001b[0m\u001b[0mpolitician\u001b[0m\u001b[1;33m)\u001b[0m\u001b[1;33m\u001b[0m\u001b[1;33m\u001b[0m\u001b[0m\n\u001b[0m",
      "\u001b[1;32m<ipython-input-9-f86453eabb6d>\u001b[0m in \u001b[0;36mget_all_tweets\u001b[1;34m(screen_name)\u001b[0m\n\u001b[0;32m     22\u001b[0m     \u001b[1;31m# all subsequent requests use the max_id param to prevent\u001b[0m\u001b[1;33m\u001b[0m\u001b[1;33m\u001b[0m\u001b[1;33m\u001b[0m\u001b[0m\n\u001b[0;32m     23\u001b[0m     \u001b[1;31m# duplicates\u001b[0m\u001b[1;33m\u001b[0m\u001b[1;33m\u001b[0m\u001b[1;33m\u001b[0m\u001b[0m\n\u001b[1;32m---> 24\u001b[1;33m     \u001b[0mnew_tweets\u001b[0m \u001b[1;33m=\u001b[0m \u001b[0mapi\u001b[0m\u001b[1;33m.\u001b[0m\u001b[0muser_timeline\u001b[0m\u001b[1;33m(\u001b[0m\u001b[0mscreen_name\u001b[0m \u001b[1;33m=\u001b[0m \u001b[0mscreen_name\u001b[0m\u001b[1;33m,\u001b[0m\u001b[0mcount\u001b[0m\u001b[1;33m=\u001b[0m\u001b[1;36m200\u001b[0m\u001b[1;33m,\u001b[0m\u001b[0mmax_id\u001b[0m\u001b[1;33m=\u001b[0m\u001b[0moldest\u001b[0m\u001b[1;33m,\u001b[0m \u001b[0mtweet_mode\u001b[0m \u001b[1;33m=\u001b[0m \u001b[1;34m\"extended\"\u001b[0m\u001b[1;33m)\u001b[0m\u001b[1;33m\u001b[0m\u001b[1;33m\u001b[0m\u001b[0m\n\u001b[0m\u001b[0;32m     25\u001b[0m     \u001b[1;31m# save most recent tweets\u001b[0m\u001b[1;33m\u001b[0m\u001b[1;33m\u001b[0m\u001b[1;33m\u001b[0m\u001b[0m\n\u001b[0;32m     26\u001b[0m     \u001b[0malltweets\u001b[0m\u001b[1;33m.\u001b[0m\u001b[0mextend\u001b[0m\u001b[1;33m(\u001b[0m\u001b[0mnew_tweets\u001b[0m\u001b[1;33m)\u001b[0m\u001b[1;33m\u001b[0m\u001b[1;33m\u001b[0m\u001b[0m\n",
      "\u001b[1;32m~\\anaconda3\\lib\\site-packages\\tweepy\\binder.py\u001b[0m in \u001b[0;36m_call\u001b[1;34m(*args, **kwargs)\u001b[0m\n\u001b[0;32m    250\u001b[0m                 \u001b[1;32mreturn\u001b[0m \u001b[0mmethod\u001b[0m\u001b[1;33m\u001b[0m\u001b[1;33m\u001b[0m\u001b[0m\n\u001b[0;32m    251\u001b[0m             \u001b[1;32melse\u001b[0m\u001b[1;33m:\u001b[0m\u001b[1;33m\u001b[0m\u001b[1;33m\u001b[0m\u001b[0m\n\u001b[1;32m--> 252\u001b[1;33m                 \u001b[1;32mreturn\u001b[0m \u001b[0mmethod\u001b[0m\u001b[1;33m.\u001b[0m\u001b[0mexecute\u001b[0m\u001b[1;33m(\u001b[0m\u001b[1;33m)\u001b[0m\u001b[1;33m\u001b[0m\u001b[1;33m\u001b[0m\u001b[0m\n\u001b[0m\u001b[0;32m    253\u001b[0m         \u001b[1;32mfinally\u001b[0m\u001b[1;33m:\u001b[0m\u001b[1;33m\u001b[0m\u001b[1;33m\u001b[0m\u001b[0m\n\u001b[0;32m    254\u001b[0m             \u001b[0mmethod\u001b[0m\u001b[1;33m.\u001b[0m\u001b[0msession\u001b[0m\u001b[1;33m.\u001b[0m\u001b[0mclose\u001b[0m\u001b[1;33m(\u001b[0m\u001b[1;33m)\u001b[0m\u001b[1;33m\u001b[0m\u001b[1;33m\u001b[0m\u001b[0m\n",
      "\u001b[1;32m~\\anaconda3\\lib\\site-packages\\tweepy\\binder.py\u001b[0m in \u001b[0;36mexecute\u001b[1;34m(self)\u001b[0m\n\u001b[0;32m    236\u001b[0m             \u001b[1;31m# Parse the response payload\u001b[0m\u001b[1;33m\u001b[0m\u001b[1;33m\u001b[0m\u001b[1;33m\u001b[0m\u001b[0m\n\u001b[0;32m    237\u001b[0m             \u001b[0mself\u001b[0m\u001b[1;33m.\u001b[0m\u001b[0mreturn_cursors\u001b[0m \u001b[1;33m=\u001b[0m \u001b[0mself\u001b[0m\u001b[1;33m.\u001b[0m\u001b[0mreturn_cursors\u001b[0m \u001b[1;32mor\u001b[0m \u001b[1;34m'cursor'\u001b[0m \u001b[1;32min\u001b[0m \u001b[0mself\u001b[0m\u001b[1;33m.\u001b[0m\u001b[0msession\u001b[0m\u001b[1;33m.\u001b[0m\u001b[0mparams\u001b[0m\u001b[1;33m\u001b[0m\u001b[1;33m\u001b[0m\u001b[0m\n\u001b[1;32m--> 238\u001b[1;33m             \u001b[0mresult\u001b[0m \u001b[1;33m=\u001b[0m \u001b[0mself\u001b[0m\u001b[1;33m.\u001b[0m\u001b[0mparser\u001b[0m\u001b[1;33m.\u001b[0m\u001b[0mparse\u001b[0m\u001b[1;33m(\u001b[0m\u001b[0mself\u001b[0m\u001b[1;33m,\u001b[0m \u001b[0mresp\u001b[0m\u001b[1;33m.\u001b[0m\u001b[0mtext\u001b[0m\u001b[1;33m,\u001b[0m \u001b[0mreturn_cursors\u001b[0m\u001b[1;33m=\u001b[0m\u001b[0mself\u001b[0m\u001b[1;33m.\u001b[0m\u001b[0mreturn_cursors\u001b[0m\u001b[1;33m)\u001b[0m\u001b[1;33m\u001b[0m\u001b[1;33m\u001b[0m\u001b[0m\n\u001b[0m\u001b[0;32m    239\u001b[0m \u001b[1;33m\u001b[0m\u001b[0m\n\u001b[0;32m    240\u001b[0m             \u001b[1;31m# Store result into cache if one is available.\u001b[0m\u001b[1;33m\u001b[0m\u001b[1;33m\u001b[0m\u001b[1;33m\u001b[0m\u001b[0m\n",
      "\u001b[1;32m~\\anaconda3\\lib\\site-packages\\tweepy\\parsers.py\u001b[0m in \u001b[0;36mparse\u001b[1;34m(self, method, payload, return_cursors)\u001b[0m\n\u001b[0;32m     89\u001b[0m                              '%s' % method.payload_type)\n\u001b[0;32m     90\u001b[0m \u001b[1;33m\u001b[0m\u001b[0m\n\u001b[1;32m---> 91\u001b[1;33m         \u001b[0mjson\u001b[0m \u001b[1;33m=\u001b[0m \u001b[0mJSONParser\u001b[0m\u001b[1;33m.\u001b[0m\u001b[0mparse\u001b[0m\u001b[1;33m(\u001b[0m\u001b[0mself\u001b[0m\u001b[1;33m,\u001b[0m \u001b[0mmethod\u001b[0m\u001b[1;33m,\u001b[0m \u001b[0mpayload\u001b[0m\u001b[1;33m,\u001b[0m \u001b[0mreturn_cursors\u001b[0m\u001b[1;33m=\u001b[0m\u001b[0mreturn_cursors\u001b[0m\u001b[1;33m)\u001b[0m\u001b[1;33m\u001b[0m\u001b[1;33m\u001b[0m\u001b[0m\n\u001b[0m\u001b[0;32m     92\u001b[0m         \u001b[1;32mif\u001b[0m \u001b[0misinstance\u001b[0m\u001b[1;33m(\u001b[0m\u001b[0mjson\u001b[0m\u001b[1;33m,\u001b[0m \u001b[0mtuple\u001b[0m\u001b[1;33m)\u001b[0m\u001b[1;33m:\u001b[0m\u001b[1;33m\u001b[0m\u001b[1;33m\u001b[0m\u001b[0m\n\u001b[0;32m     93\u001b[0m             \u001b[0mjson\u001b[0m\u001b[1;33m,\u001b[0m \u001b[0mcursors\u001b[0m \u001b[1;33m=\u001b[0m \u001b[0mjson\u001b[0m\u001b[1;33m\u001b[0m\u001b[1;33m\u001b[0m\u001b[0m\n",
      "\u001b[1;32m~\\anaconda3\\lib\\site-packages\\tweepy\\parsers.py\u001b[0m in \u001b[0;36mparse\u001b[1;34m(self, method, payload, return_cursors)\u001b[0m\n\u001b[0;32m     48\u001b[0m             \u001b[0mjson\u001b[0m \u001b[1;33m=\u001b[0m \u001b[0mjson_lib\u001b[0m\u001b[1;33m.\u001b[0m\u001b[0mloads\u001b[0m\u001b[1;33m(\u001b[0m\u001b[0mpayload\u001b[0m\u001b[1;33m)\u001b[0m\u001b[1;33m\u001b[0m\u001b[1;33m\u001b[0m\u001b[0m\n\u001b[0;32m     49\u001b[0m         \u001b[1;32mexcept\u001b[0m \u001b[0mException\u001b[0m \u001b[1;32mas\u001b[0m \u001b[0me\u001b[0m\u001b[1;33m:\u001b[0m\u001b[1;33m\u001b[0m\u001b[1;33m\u001b[0m\u001b[0m\n\u001b[1;32m---> 50\u001b[1;33m             \u001b[1;32mraise\u001b[0m \u001b[0mTweepError\u001b[0m\u001b[1;33m(\u001b[0m\u001b[1;34m'Failed to parse JSON payload: %s'\u001b[0m \u001b[1;33m%\u001b[0m \u001b[0me\u001b[0m\u001b[1;33m)\u001b[0m\u001b[1;33m\u001b[0m\u001b[1;33m\u001b[0m\u001b[0m\n\u001b[0m\u001b[0;32m     51\u001b[0m \u001b[1;33m\u001b[0m\u001b[0m\n\u001b[0;32m     52\u001b[0m         \u001b[1;32mif\u001b[0m \u001b[0mreturn_cursors\u001b[0m \u001b[1;32mand\u001b[0m \u001b[0misinstance\u001b[0m\u001b[1;33m(\u001b[0m\u001b[0mjson\u001b[0m\u001b[1;33m,\u001b[0m \u001b[0mdict\u001b[0m\u001b[1;33m)\u001b[0m\u001b[1;33m:\u001b[0m\u001b[1;33m\u001b[0m\u001b[1;33m\u001b[0m\u001b[0m\n",
      "\u001b[1;31mTweepError\u001b[0m: Failed to parse JSON payload: Unterminated string starting at: line 1 column 635485 (char 635484)"
     ]
    }
   ],
   "source": [
    "for politician in handles[0:5]:\n",
    "  get_all_tweets(politician)"
   ]
  }
 ],
 "metadata": {
  "kernelspec": {
   "display_name": "Python 3",
   "language": "python",
   "name": "python3"
  },
  "language_info": {
   "codemirror_mode": {
    "name": "ipython",
    "version": 3
   },
   "file_extension": ".py",
   "mimetype": "text/x-python",
   "name": "python",
   "nbconvert_exporter": "python",
   "pygments_lexer": "ipython3",
   "version": "3.8.3"
  }
 },
 "nbformat": 4,
 "nbformat_minor": 4
}
